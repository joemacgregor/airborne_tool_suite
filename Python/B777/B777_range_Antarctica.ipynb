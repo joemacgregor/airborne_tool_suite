{
 "cells": [
  {
   "cell_type": "markdown",
   "id": "f97e79a6-17ae-4e7c-8622-90810fdbb773",
   "metadata": {},
   "source": [
    "## <div align=\"center\">Boeing 777 Range Estimates over Antarctica</div>"
   ]
  },
  {
   "cell_type": "markdown",
   "id": "374c95bc-8d6b-4361-a44b-3e9d7ea50ec2",
   "metadata": {},
   "source": [
    "This Jupyter notebook estimates ranges over Antarctica for the NASA Boeing 777 (B777-200ER) a.k.a. \"the triple seven\" airborne science laboratory."
   ]
  },
  {
   "cell_type": "markdown",
   "id": "b45a4b25-78c0-40a4-869f-34f4a3799e6d",
   "metadata": {},
   "source": [
    "### 1) Getting started"
   ]
  },
  {
   "cell_type": "markdown",
   "id": "5b65f490-c7e2-4e3d-a8eb-49effec418d9",
   "metadata": {},
   "source": [
    "First, load the required Python™ modules and set up processing options and parameters:"
   ]
  },
  {
   "cell_type": "code",
   "execution_count": 1,
   "id": "4d7f9fbb-9634-4762-809b-4d4bab2e2948",
   "metadata": {},
   "outputs": [],
   "source": [
    "import os\n",
    "import pandas as pd"
   ]
  },
  {
   "cell_type": "code",
   "execution_count": 2,
   "id": "bae40f2d-d4c9-42b8-ab49-3b47475117e0",
   "metadata": {},
   "outputs": [
    {
     "data": {
      "text/html": [
       "<div>\n",
       "<style scoped>\n",
       "    .dataframe tbody tr th:only-of-type {\n",
       "        vertical-align: middle;\n",
       "    }\n",
       "\n",
       "    .dataframe tbody tr th {\n",
       "        vertical-align: top;\n",
       "    }\n",
       "\n",
       "    .dataframe thead th {\n",
       "        text-align: right;\n",
       "    }\n",
       "</style>\n",
       "<table border=\"1\" class=\"dataframe\">\n",
       "  <thead>\n",
       "    <tr style=\"text-align: right;\">\n",
       "      <th></th>\n",
       "      <th>Parameter</th>\n",
       "      <th>Value</th>\n",
       "      <th>Unit</th>\n",
       "      <th>Comment</th>\n",
       "    </tr>\n",
       "  </thead>\n",
       "  <tbody>\n",
       "    <tr>\n",
       "      <th>0</th>\n",
       "      <td>Name</td>\n",
       "      <td>NASA B777-200ER</td>\n",
       "      <td>NaN</td>\n",
       "      <td></td>\n",
       "    </tr>\n",
       "    <tr>\n",
       "      <th>1</th>\n",
       "      <td>NameShort</td>\n",
       "      <td>777</td>\n",
       "      <td>NaN</td>\n",
       "      <td></td>\n",
       "    </tr>\n",
       "    <tr>\n",
       "      <th>2</th>\n",
       "      <td>MTOW</td>\n",
       "      <td>656E3</td>\n",
       "      <td>lb</td>\n",
       "      <td>maximum take-off weight</td>\n",
       "    </tr>\n",
       "    <tr>\n",
       "      <th>3</th>\n",
       "      <td>OEW</td>\n",
       "      <td>321E3</td>\n",
       "      <td>lb</td>\n",
       "      <td>operating empty weight incl. crew</td>\n",
       "    </tr>\n",
       "    <tr>\n",
       "      <th>4</th>\n",
       "      <td>MissionLoad</td>\n",
       "      <td>50E3</td>\n",
       "      <td>lb</td>\n",
       "      <td>load for mission operations incl. QNCs + PAX +...</td>\n",
       "    </tr>\n",
       "    <tr>\n",
       "      <th>5</th>\n",
       "      <td>FuelTotal</td>\n",
       "      <td>308E3</td>\n",
       "      <td>lb</td>\n",
       "      <td>fuel total</td>\n",
       "    </tr>\n",
       "    <tr>\n",
       "      <th>6</th>\n",
       "      <td>FuelTotalOp</td>\n",
       "      <td>280E3</td>\n",
       "      <td>lb</td>\n",
       "      <td>operational fuel total (if tanks not complete...</td>\n",
       "    </tr>\n",
       "    <tr>\n",
       "      <th>7</th>\n",
       "      <td>FuelReserveTime</td>\n",
       "      <td>90</td>\n",
       "      <td>min</td>\n",
       "      <td>NaN</td>\n",
       "    </tr>\n",
       "    <tr>\n",
       "      <th>8</th>\n",
       "      <td>SpeedCruise</td>\n",
       "      <td>560</td>\n",
       "      <td>kt</td>\n",
       "      <td>NaN</td>\n",
       "    </tr>\n",
       "    <tr>\n",
       "      <th>9</th>\n",
       "      <td>SpeedLo</td>\n",
       "      <td>275</td>\n",
       "      <td>kt</td>\n",
       "      <td>NaN</td>\n",
       "    </tr>\n",
       "    <tr>\n",
       "      <th>10</th>\n",
       "      <td>SpeedLoPenalty</td>\n",
       "      <td>2</td>\n",
       "      <td>NaN</td>\n",
       "      <td>fuel burn penalty ratio for jet low-flying com...</td>\n",
       "    </tr>\n",
       "    <tr>\n",
       "      <th>11</th>\n",
       "      <td>ETOPS</td>\n",
       "      <td>330</td>\n",
       "      <td>min</td>\n",
       "      <td>ETOPS for aircraft type (B777-200ER). not usin...</td>\n",
       "    </tr>\n",
       "  </tbody>\n",
       "</table>\n",
       "</div>"
      ],
      "text/plain": [
       "          Parameter            Value  Unit  \\\n",
       "0              Name  NASA B777-200ER   NaN   \n",
       "1         NameShort              777   NaN   \n",
       "2              MTOW            656E3    lb   \n",
       "3               OEW            321E3    lb   \n",
       "4       MissionLoad             50E3    lb   \n",
       "5         FuelTotal            308E3    lb   \n",
       "6       FuelTotalOp            280E3    lb   \n",
       "7   FuelReserveTime               90   min   \n",
       "8       SpeedCruise              560    kt   \n",
       "9           SpeedLo              275    kt   \n",
       "10   SpeedLoPenalty                2   NaN   \n",
       "11            ETOPS              330   min   \n",
       "\n",
       "                                              Comment  \n",
       "0                                                      \n",
       "1                                                      \n",
       "2                             maximum take-off weight  \n",
       "3                   operating empty weight incl. crew  \n",
       "4   load for mission operations incl. QNCs + PAX +...  \n",
       "5                                          fuel total  \n",
       "6    operational fuel total (if tanks not complete...  \n",
       "7                                                 NaN  \n",
       "8                                                 NaN  \n",
       "9                                                 NaN  \n",
       "10  fuel burn penalty ratio for jet low-flying com...  \n",
       "11  ETOPS for aircraft type (B777-200ER). not usin...  "
      ]
     },
     "execution_count": 2,
     "metadata": {},
     "output_type": "execute_result"
    }
   ],
   "source": [
    "f_name_aircraft = r\"aircraft_performance_parameters.csv\"\n",
    "aircraft_df = pd.read_csv(f_name_aircraft)\n",
    "aircraft_df"
   ]
  },
  {
   "cell_type": "code",
   "execution_count": null,
   "id": "f83c50d2-c02f-4f1e-8255-4c3afec41b48",
   "metadata": {},
   "outputs": [],
   "source": []
  }
 ],
 "metadata": {
  "kernelspec": {
   "display_name": "Python 3 (ipykernel)",
   "language": "python",
   "name": "python3"
  },
  "language_info": {
   "codemirror_mode": {
    "name": "ipython",
    "version": 3
   },
   "file_extension": ".py",
   "mimetype": "text/x-python",
   "name": "python",
   "nbconvert_exporter": "python",
   "pygments_lexer": "ipython3",
   "version": "3.9.21"
  }
 },
 "nbformat": 4,
 "nbformat_minor": 5
}
