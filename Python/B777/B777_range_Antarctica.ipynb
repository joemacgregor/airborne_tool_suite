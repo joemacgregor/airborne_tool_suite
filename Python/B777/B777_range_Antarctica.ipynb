{
 "cells": [
  {
   "cell_type": "markdown",
   "id": "f97e79a6-17ae-4e7c-8622-90810fdbb773",
   "metadata": {},
   "source": [
    "## <div align=\"center\">Big Bird (B777) Range Estimates over Antarctica</div>"
   ]
  },
  {
   "cell_type": "markdown",
   "id": "374c95bc-8d6b-4361-a44b-3e9d7ea50ec2",
   "metadata": {},
   "source": [
    "This Jupyter notebook estimates ranges over Antarctica for the NASA Boeing 777 (B777-200ER) a.k.a. \"the triple seven\" airborne science laboratory."
   ]
  },
  {
   "cell_type": "markdown",
   "id": "b45a4b25-78c0-40a4-869f-34f4a3799e6d",
   "metadata": {},
   "source": [
    "### 1) Getting started"
   ]
  },
  {
   "cell_type": "markdown",
   "id": "5b65f490-c7e2-4e3d-a8eb-49effec418d9",
   "metadata": {},
   "source": [
    "First, load the required Python™ modules and set up processing options and parameters:"
   ]
  },
  {
   "cell_type": "code",
   "execution_count": 1,
   "id": "4d7f9fbb-9634-4762-809b-4d4bab2e2948",
   "metadata": {},
   "outputs": [],
   "source": [
    "import os"
   ]
  },
  {
   "cell_type": "code",
   "execution_count": null,
   "id": "bae40f2d-d4c9-42b8-ab49-3b47475117e0",
   "metadata": {},
   "outputs": [],
   "source": []
  }
 ],
 "metadata": {
  "kernelspec": {
   "display_name": "Python 3 (ipykernel)",
   "language": "python",
   "name": "python3"
  },
  "language_info": {
   "codemirror_mode": {
    "name": "ipython",
    "version": 3
   },
   "file_extension": ".py",
   "mimetype": "text/x-python",
   "name": "python",
   "nbconvert_exporter": "python",
   "pygments_lexer": "ipython3",
   "version": "3.11.7"
  }
 },
 "nbformat": 4,
 "nbformat_minor": 5
}
