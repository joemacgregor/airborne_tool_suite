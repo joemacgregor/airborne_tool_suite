{
 "cells": [
  {
   "cell_type": "markdown",
   "id": "f97e79a6-17ae-4e7c-8622-90810fdbb773",
   "metadata": {},
   "source": [
    "## <div align=\"center\">Boeing 777 Range Estimates over Antarctica</div>"
   ]
  },
  {
   "cell_type": "markdown",
   "id": "374c95bc-8d6b-4361-a44b-3e9d7ea50ec2",
   "metadata": {},
   "source": [
    "This Jupyter notebook estimates ranges over Antarctica for the NASA Boeing 777 (B777-200ER) a.k.a. \"the triple seven\" airborne science laboratory."
   ]
  },
  {
   "cell_type": "markdown",
   "id": "b45a4b25-78c0-40a4-869f-34f4a3799e6d",
   "metadata": {},
   "source": [
    "### 1) Getting started"
   ]
  },
  {
   "cell_type": "markdown",
   "id": "5b65f490-c7e2-4e3d-a8eb-49effec418d9",
   "metadata": {},
   "source": [
    "First, load the required Python™ modules and set up processing options and parameters:"
   ]
  },
  {
   "cell_type": "code",
   "execution_count": 1,
   "id": "4d7f9fbb-9634-4762-809b-4d4bab2e2948",
   "metadata": {},
   "outputs": [],
   "source": [
    "import os\n",
    "VERBOSE = True"
   ]
  },
  {
   "cell_type": "markdown",
   "id": "4877b333-97b5-4887-8e88-23be4b77e4df",
   "metadata": {},
   "source": [
    "### 2) Set aircraft performance parameters"
   ]
  },
  {
   "cell_type": "code",
   "execution_count": 2,
   "id": "f83c50d2-c02f-4f1e-8255-4c3afec41b48",
   "metadata": {},
   "outputs": [
    {
     "name": "stdout",
     "output_type": "stream",
     "text": [
      "The OEW of the NASA B777-200ER is 321000.0 lbs.\n"
     ]
    }
   ],
   "source": [
    "class AirCraft():\n",
    "    def __init__(self):\n",
    "        self.name            = 'NASA B777-200ER' # platform name\n",
    "        self.shortname       = '777'             # platform shortname\n",
    "        self.MTOW            = 656E3             # maximum take-off weight in lbs\n",
    "        self.OEW             = 321E3             # operating empty weight incl. crew in lbs\n",
    "        self.MissionLoad     = 50E3              # load for mission operations incl. QNCs + PAX + instruments in lbs\n",
    "        self.FuelTotal       = 308E3             # fuel total in lbs\n",
    "        self.FuelTotalOp     = 280E3             # operational fuel total (if tanks are not completely filled) in lbs\n",
    "        self.FuelReserveTime = 90                # in minutes\n",
    "        self.SpeedCruise     = 560               # in knots\n",
    "        self.SpeedLo         = 275               # in knots\n",
    "        self.SpeedLoPenalty  = 2                 # fuel burn penalty ratio for jet low-flying compared to cruise. dimensionless\n",
    "        self.ETOPS           = 330               # ETOPS for aircraft type (B777-200ER) in munutes. currently not used\n",
    "\n",
    "# create return variable \"aircraft_params\" as an AirCraft class with fields populated\n",
    "aircraft_params = AirCraft()\n",
    "\n",
    "if VERBOSE:\n",
    "        print(f'The OEW of the {aircraft_params.name:s} is {aircraft_params.OEW:.1f} lbs.')"
   ]
  },
  {
   "cell_type": "code",
   "execution_count": null,
   "id": "455c54b2-acf0-4b8f-9805-231f4d5d43ed",
   "metadata": {},
   "outputs": [],
   "source": []
  }
 ],
 "metadata": {
  "kernelspec": {
   "display_name": "Python 3 (ipykernel)",
   "language": "python",
   "name": "python3"
  },
  "language_info": {
   "codemirror_mode": {
    "name": "ipython",
    "version": 3
   },
   "file_extension": ".py",
   "mimetype": "text/x-python",
   "name": "python",
   "nbconvert_exporter": "python",
   "pygments_lexer": "ipython3",
   "version": "3.9.21"
  }
 },
 "nbformat": 4,
 "nbformat_minor": 5
}
