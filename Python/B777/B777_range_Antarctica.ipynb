{
 "cells": [
  {
   "cell_type": "markdown",
   "id": "f97e79a6-17ae-4e7c-8622-90810fdbb773",
   "metadata": {},
   "source": [
    "## <div align=\"center\">Boeing 777 Range Estimates over Antarctica</div>"
   ]
  },
  {
   "cell_type": "markdown",
   "id": "374c95bc-8d6b-4361-a44b-3e9d7ea50ec2",
   "metadata": {},
   "source": [
    "This Jupyter notebook estimates ranges over Antarctica for the NASA Boeing 777 (B777-200ER) a.k.a. \"the triple seven\" airborne science laboratory."
   ]
  },
  {
   "cell_type": "markdown",
   "id": "b45a4b25-78c0-40a4-869f-34f4a3799e6d",
   "metadata": {},
   "source": [
    "### 1) Getting started"
   ]
  },
  {
   "cell_type": "markdown",
   "id": "5b65f490-c7e2-4e3d-a8eb-49effec418d9",
   "metadata": {},
   "source": [
    "First, load the required Python™ modules and set up processing options and parameters:"
   ]
  },
  {
   "cell_type": "code",
   "execution_count": 1,
   "id": "4d7f9fbb-9634-4762-809b-4d4bab2e2948",
   "metadata": {},
   "outputs": [],
   "source": [
<<<<<<< HEAD
    "import pandas as pd\n",
    "import os\n",
    "import numpy as np\n",
    "import scipy as sp"
=======
    "import numpy as np\n",
    "import pandas as pd\n",
    "import geopandas as gpd\n",
    "\n",
    "VERBOSE = True"
   ]
  },
  {
   "cell_type": "markdown",
   "id": "4877b333-97b5-4887-8e88-23be4b77e4df",
   "metadata": {},
   "source": [
    "### 2) Set aircraft performance parameters"
>>>>>>> 304fad76e6154075b800fa61b8df837a8ba1ca9a
   ]
  },
  {
   "cell_type": "code",
   "execution_count": 2,
   "id": "f83c50d2-c02f-4f1e-8255-4c3afec41b48",
   "metadata": {},
   "outputs": [
    {
     "name": "stdout",
     "output_type": "stream",
     "text": [
      "The OEW of the NASA B777-200ER is 321000.0 lbs.\n"
     ]
    }
   ],
   "source": [
    "class AirCraft():\n",
    "    def __init__(self):\n",
    "        self.name            = 'NASA B777-200ER' # platform name\n",
    "        self.shortname       = '777'             # platform shortname\n",
    "        self.MTOW            = 656E3             # maximum take-off weight in lbs\n",
    "        self.OEW             = 321E3             # operating empty weight incl. crew in lbs\n",
    "        self.MissionLoad     = 50E3              # load for mission operations incl. QNCs + PAX + instruments in lbs\n",
    "        self.FuelTotal       = 308E3             # fuel total in lbs\n",
    "        self.FuelTotalOp     = 280E3             # operational fuel total (if tanks are not completely filled) in lbs\n",
    "        self.FuelReserveTime = 90                # in minutes\n",
    "        self.SpeedCruise     = 560               # in knots\n",
    "        self.SpeedLo         = 275               # in knots\n",
    "        self.SpeedLoPenalty  = 2                 # fuel burn penalty ratio for jet low-flying compared to cruise. dimensionless\n",
    "        self.ETOPS           = 330               # ETOPS for aircraft type (B777-200ER) in minutes. currently not used.\n",
    "\n",
    "# create return variable \"aircraft_params\" as an AirCraft class with fields populated\n",
    "aircraft_params = AirCraft()\n",
    "\n",
    "if VERBOSE:\n",
    "        print(f'The OEW of the {aircraft_params.name:s} is {aircraft_params.OEW:.1f} lbs.')"
   ]
  },
  {
   "cell_type": "markdown",
   "id": "68586c00-a8f4-4cc4-81c6-13481013fdee",
   "metadata": {},
   "source": [
    "### 3) Load bases of operation"
   ]
  },
  {
   "cell_type": "code",
   "execution_count": 4,
   "id": "9affd9f4-053e-4486-9a04-bf41a8f209b3",
   "metadata": {},
   "outputs": [
    {
     "data": {
      "text/html": [
       "<div>\n",
       "<style scoped>\n",
       "    .dataframe tbody tr th:only-of-type {\n",
       "        vertical-align: middle;\n",
       "    }\n",
       "\n",
       "    .dataframe tbody tr th {\n",
       "        vertical-align: top;\n",
       "    }\n",
       "\n",
       "    .dataframe thead th {\n",
       "        text-align: right;\n",
       "    }\n",
       "</style>\n",
       "<table border=\"1\" class=\"dataframe\">\n",
       "  <thead>\n",
       "    <tr style=\"text-align: right;\">\n",
       "      <th></th>\n",
       "      <th>Name</th>\n",
       "      <th>Country</th>\n",
       "      <th>CountryNice</th>\n",
       "      <th>ICAO</th>\n",
       "      <th>Latitude</th>\n",
       "      <th>Longitude</th>\n",
       "      <th>Color</th>\n",
       "      <th>geometry</th>\n",
       "    </tr>\n",
       "  </thead>\n",
       "  <tbody>\n",
       "    <tr>\n",
       "      <th>0</th>\n",
       "      <td>Punta Arenas</td>\n",
       "      <td>CHL</td>\n",
       "      <td>Chile</td>\n",
       "      <td>SCCI</td>\n",
       "      <td>-52.99</td>\n",
       "      <td>-70.85</td>\n",
       "      <td>k</td>\n",
       "      <td>POINT (-70.85000 -52.99000)</td>\n",
       "    </tr>\n",
       "    <tr>\n",
       "      <th>1</th>\n",
       "      <td>Ushuaia</td>\n",
       "      <td>ARG</td>\n",
       "      <td>Argentina</td>\n",
       "      <td>SAWH</td>\n",
       "      <td>-54.84</td>\n",
       "      <td>-68.30</td>\n",
       "      <td>r</td>\n",
       "      <td>POINT (-68.30000 -54.84000)</td>\n",
       "    </tr>\n",
       "    <tr>\n",
       "      <th>2</th>\n",
       "      <td>Hobart</td>\n",
       "      <td>AUS</td>\n",
       "      <td>Australia</td>\n",
       "      <td>YMHB</td>\n",
       "      <td>-42.84</td>\n",
       "      <td>147.51</td>\n",
       "      <td>b</td>\n",
       "      <td>POINT (147.51000 -42.84000)</td>\n",
       "    </tr>\n",
       "    <tr>\n",
       "      <th>3</th>\n",
       "      <td>Perth</td>\n",
       "      <td>AUS</td>\n",
       "      <td>Australia</td>\n",
       "      <td>YPPH</td>\n",
       "      <td>-31.94</td>\n",
       "      <td>115.96</td>\n",
       "      <td>m</td>\n",
       "      <td>POINT (115.96000 -31.94000)</td>\n",
       "    </tr>\n",
       "    <tr>\n",
       "      <th>4</th>\n",
       "      <td>Cape Town</td>\n",
       "      <td>ZAF</td>\n",
       "      <td>South Africa</td>\n",
       "      <td>FACT</td>\n",
       "      <td>-33.97</td>\n",
       "      <td>18.60</td>\n",
       "      <td>g</td>\n",
       "      <td>POINT (18.60000 -33.97000)</td>\n",
       "    </tr>\n",
       "  </tbody>\n",
       "</table>\n",
       "</div>"
      ],
      "text/plain": [
       "           Name Country   CountryNice  ICAO  Latitude  Longitude Color  \\\n",
       "0  Punta Arenas     CHL         Chile  SCCI    -52.99     -70.85     k   \n",
       "1       Ushuaia     ARG     Argentina  SAWH    -54.84     -68.30     r   \n",
       "2        Hobart     AUS     Australia  YMHB    -42.84     147.51     b   \n",
       "3         Perth     AUS     Australia  YPPH    -31.94     115.96     m   \n",
       "4     Cape Town     ZAF  South Africa  FACT    -33.97      18.60     g   \n",
       "\n",
       "                      geometry  \n",
       "0  POINT (-70.85000 -52.99000)  \n",
       "1  POINT (-68.30000 -54.84000)  \n",
       "2  POINT (147.51000 -42.84000)  \n",
       "3  POINT (115.96000 -31.94000)  \n",
       "4   POINT (18.60000 -33.97000)  "
      ]
     },
     "execution_count": 4,
     "metadata": {},
     "output_type": "execute_result"
    }
   ],
   "source": [
    "f_name_bases = \"bases_of_operation.csv\"\n",
    "bases_df = pd.read_csv(f_name_bases)\n",
    "\n",
    "# not needed here but is good practice: wrap longitudes to ±180° for exporting geographic coordinates \n",
    "# 0° to 360° is not supported for GeoPackage (GPKG) format    \n",
    "bases_df['Longitude'] = np.mod(bases_df['Longitude'] - 180.0, 360.0) - 180.0 \n",
    "\n",
    "bases_gdf = gpd.GeoDataFrame(bases_df, geometry=gpd.points_from_xy(bases_df['Longitude'], bases_df['Latitude']))\n",
    "# set up the coordinate system for GeoDataPackage\n",
    "bases_gdf = bases_gdf.set_crs(\"EPSG:4326\")\n",
    "# save GeoDataPackage if desired\n",
    "bases_gdf.to_file(f_name_bases.replace(\".csv\", \".gpkg\"), driver=\"GPKG\")\n",
    "\n",
    "bases_gdf"
   ]
  }
 ],
 "metadata": {
  "kernelspec": {
   "display_name": "geo",
   "language": "python",
   "name": "geo"
  },
  "language_info": {
   "codemirror_mode": {
    "name": "ipython",
    "version": 3
   },
   "file_extension": ".py",
   "mimetype": "text/x-python",
   "name": "python",
   "nbconvert_exporter": "python",
   "pygments_lexer": "ipython3",
<<<<<<< HEAD
   "version": "3.12.7"
=======
   "version": "3.12.3"
>>>>>>> 304fad76e6154075b800fa61b8df837a8ba1ca9a
  }
 },
 "nbformat": 4,
 "nbformat_minor": 5
}
